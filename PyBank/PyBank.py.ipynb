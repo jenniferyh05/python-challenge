{
 "cells": [
  {
   "cell_type": "code",
   "execution_count": 7,
   "metadata": {},
   "outputs": [],
   "source": [
    "import os\n",
    "import csv \n",
    "\n",
    "budget_data = os.path.join(\"budget_data.csv\")\n",
    "    "
   ]
  },
  {
   "cell_type": "code",
   "execution_count": 8,
   "metadata": {},
   "outputs": [
    {
     "name": "stdout",
     "output_type": "stream",
     "text": [
      "Financial Analysis\n",
      "------------------------------\n",
      "Total Months:86\n",
      "Total: $38382578\n",
      "Average Change: $-2288.2\n",
      "Greatest Increase in Profits: Feb-2012 ($1926159)\n",
      "Greatest Decrease in Profits: Sep-2013 ($-2196167)\n"
     ]
    }
   ],
   "source": [
    "with open(budget_data,newline=\"\") as csvfile:\n",
    "    budgetreader = csv.reader(csvfile)\n",
    "    header=next(budgetreader,None)\n",
    " \n",
    "    monthcount = 0 \n",
    "    total = 0\n",
    "    previous = 867884\n",
    "    sumdifference = 0\n",
    "    listofdifference =[]\n",
    "    listofmonth =[]\n",
    "    \n",
    "    for row in budgetreader: \n",
    "        monthcount = monthcount +1\n",
    "        total = total + int(row[1])\n",
    "        difference = int(row[1]) - previous \n",
    "        listofdifference.append(difference)\n",
    "        listofmonth.append(row[0])\n",
    "        sumdifference = sumdifference + difference\n",
    "        previous = int(row[1])\n",
    "    \n",
    "    maxchange = max(listofdifference)\n",
    "    minchange = min(listofdifference)\n",
    "    averagechange = round(sumdifference/monthcount,2)\n",
    "    \n",
    "    indexmax = listofdifference.index(maxchange)\n",
    "    monthmax =listofmonth[indexmax]\n",
    "    indexmin = listofdifference.index(minchange)\n",
    "    monthmin = listofmonth[indexmin]\n",
    "\n",
    "    print(\"Financial Analysis\")\n",
    "    print(\"------------------------------\")\n",
    "    print(f'Total Months:{monthcount}')\n",
    "    print(f'Total: ${total}')\n",
    "    print(f'Average Change: ${averagechange}')\n",
    "    print(f'Greatest Increase in Profits: {monthmax} (${maxchange})')\n",
    "    print(f'Greatest Decrease in Profits: {monthmin} (${minchange})')\n",
    "    \n",
    "    \n",
    "    \n",
    "    \n"
   ]
  },
  {
   "cell_type": "code",
   "execution_count": null,
   "metadata": {},
   "outputs": [],
   "source": []
  }
 ],
 "metadata": {
  "kernelspec": {
   "display_name": "Python 3",
   "language": "python",
   "name": "python3"
  },
  "language_info": {
   "codemirror_mode": {
    "name": "ipython",
    "version": 3
   },
   "file_extension": ".py",
   "mimetype": "text/x-python",
   "name": "python",
   "nbconvert_exporter": "python",
   "pygments_lexer": "ipython3",
   "version": "3.6.6"
  }
 },
 "nbformat": 4,
 "nbformat_minor": 2
}
