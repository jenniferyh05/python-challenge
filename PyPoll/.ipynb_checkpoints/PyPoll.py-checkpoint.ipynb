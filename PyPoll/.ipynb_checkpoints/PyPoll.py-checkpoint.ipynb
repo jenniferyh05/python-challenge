{
 "cells": [
  {
   "cell_type": "code",
   "execution_count": 13,
   "metadata": {},
   "outputs": [
    {
     "name": "stdout",
     "output_type": "stream",
     "text": [
      "Election Results\n",
      "--------------------\n",
      "Total Votes: 3521001\n",
      "--------------------\n",
      "Khan: 63.000% (2218231)\n",
      "Correy: 20.000% (704200)\n",
      "Li: 14.000% (492940)\n",
      "O'Tooley: 3.000% (105630)\n",
      "--------------------\n",
      "Winner: Khan\n"
     ]
    }
   ],
   "source": [
    "import os\n",
    "import csv\n",
    "from collections import Counter\n",
    "\n",
    "poll_csv = os.path.join(\"election_data.csv\")\n",
    "\n",
    "count = 0 \n",
    "candidates=[]\n",
    "votes = Counter()\n",
    "with open(poll_csv,newline =\"\") as csvfile:\n",
    "    csvreader = csv.reader(csvfile)\n",
    "    header = next(csvfile, None)\n",
    "    for row in csvreader:\n",
    "        count = count + 1\n",
    "        name = row[2]\n",
    "        votes[name] = votes[name] + 1\n",
    "\n",
    "print(\"Election Results\")\n",
    "print(\"--------------------\")\n",
    "print(f'Total Votes: {count}')\n",
    "print(\"--------------------\")\n",
    "      \n",
    "for candidate,v in votes.most_common():\n",
    "    print(\"%s: %.3f%s (%d)\"%(candidate,v*100./count,\"%\",v))\n",
    "\n",
    "print(\"--------------------\")\n",
    "      \n",
    "for candidate,v in votes.most_common():\n",
    "    print(\"Winner: %s\"%(candidate))\n",
    "    break\n",
    "    \n",
    "    \n",
    "file = open(\"PyPoll.txt\",\"w\")   \n",
    "file.write(\"Election Results\"+\"\\n\")\n",
    "file.write(\"-----------------------\"+\"\\n\")\n",
    "file.write(str(f'Total Votes:{count}'+\"\\n\"))\n",
    "file.write(\"-----------------------\"+\"\\n\")\n",
    "for candidate,v in votes.most_common():\n",
    "    file.write(str(\"%s: %.3f%s (%d)\\n\"%(candidate,v*100./count,\"%\",v)))\n",
    "file.write(\"-----------------------\"+\"\\n\")\n",
    "for candidate,v in votes.most_common():\n",
    "    file.write(str(\"Winner: %s\"%(candidate)))\n",
    "    break\n",
    "file.close()   \n",
    "    "
   ]
  }
 ],
 "metadata": {
  "kernelspec": {
   "display_name": "Python 3",
   "language": "python",
   "name": "python3"
  },
  "language_info": {
   "codemirror_mode": {
    "name": "ipython",
    "version": 3
   },
   "file_extension": ".py",
   "mimetype": "text/x-python",
   "name": "python",
   "nbconvert_exporter": "python",
   "pygments_lexer": "ipython3",
   "version": "3.6.5"
  }
 },
 "nbformat": 4,
 "nbformat_minor": 2
}
